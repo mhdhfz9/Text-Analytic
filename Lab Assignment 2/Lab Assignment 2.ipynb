{
 "cells": [
  {
   "cell_type": "code",
   "execution_count": 17,
   "id": "d190380d",
   "metadata": {},
   "outputs": [],
   "source": [
    "#Muhammad Hafiz Bin Kamaruzaman SW01081229\n",
    "#Kamal Adeem Bin Kamaruddin IS01081937\n",
    "\n",
    "# Data Preprocessing\n",
    "import pandas as pd\n",
    "import numpy as np\n",
    "import re\n",
    "from sklearn.model_selection import train_test_split\n",
    "from sklearn.feature_extraction.text import CountVectorizer, TfidfVectorizer\n",
    "from sklearn.naive_bayes import MultinomialNB\n",
    "from sklearn.svm import LinearSVC\n",
    "from sklearn.metrics import classification_report\n",
    "\n",
    "# Load data\n",
    "df = pd.read_csv('Reviews.csv')\n",
    "\n",
    "# Keep only relevant columns\n",
    "df = df[['Text', 'Score']]\n",
    "\n",
    "# Drop rows with missing values\n",
    "df.dropna(inplace=True)\n",
    "\n",
    "# Remove neutral reviews (Score == 3)\n",
    "df = df[df['Score'] != 3]\n",
    "\n",
    "# Create sentiment labels\n",
    "df['Sentiment'] = df['Score'].apply(lambda x: 'positive' if x > 3 else 'negative')\n",
    "\n",
    "# Clean text\n",
    "def clean_text(text):\n",
    "    text = text.lower()\n",
    "    text = re.sub(r'\\[.*?\\]', '', text)\n",
    "    text = re.sub(r'\\w*\\d\\w*', '', text)\n",
    "    text = re.sub(r'[^\\w\\s]', '', text)\n",
    "    text = re.sub(r'\\n', '', text)\n",
    "    return text\n",
    "\n",
    "df['Cleaned_Text'] = df['Text'].apply(clean_text)"
   ]
  },
  {
   "cell_type": "code",
   "execution_count": 14,
   "id": "66990738",
   "metadata": {},
   "outputs": [],
   "source": [
    "# Feature Extraction\n",
    "from sklearn.model_selection import train_test_split\n",
    "\n",
    "# Labels\n",
    "y = df['Sentiment']\n",
    "\n",
    "# Split first to get train/test indices\n",
    "X_train_text, X_test_text, y_train, y_test = train_test_split(\n",
    "    df['Cleaned_Text'], y, test_size=0.2, random_state=42)\n",
    "\n",
    "# Apply BoW and TF-IDF on split text\n",
    "X_train_bow = bow_vectorizer.fit_transform(X_train_text)\n",
    "X_test_bow = bow_vectorizer.transform(X_test_text)\n",
    "\n",
    "X_train_tfidf = tfidf_vectorizer.fit_transform(X_train_text)\n",
    "X_test_tfidf = tfidf_vectorizer.transform(X_test_text)"
   ]
  },
  {
   "cell_type": "code",
   "execution_count": 15,
   "id": "e2639dbf",
   "metadata": {},
   "outputs": [],
   "source": [
    "# Model Selection\n",
    "from sklearn.naive_bayes import MultinomialNB\n",
    "from sklearn.svm import LinearSVC\n",
    "\n",
    "# Naive Bayes (BoW)\n",
    "nb_bow = MultinomialNB()\n",
    "nb_bow.fit(X_train_bow, y_train)\n",
    "y_pred_nb_bow = nb_bow.predict(X_test_bow)\n",
    "\n",
    "# SVM (TF-IDF)\n",
    "svm_tfidf = LinearSVC()\n",
    "svm_tfidf.fit(X_train_tfidf, y_train)\n",
    "y_pred_svm_tfidf = svm_tfidf.predict(X_test_tfidf)"
   ]
  },
  {
   "cell_type": "code",
   "execution_count": 16,
   "id": "23c99c20",
   "metadata": {},
   "outputs": [
    {
     "name": "stdout",
     "output_type": "stream",
     "text": [
      "Naive Bayes (BoW) Performance:\n",
      "              precision    recall  f1-score   support\n",
      "\n",
      "    negative       0.76      0.72      0.74     16379\n",
      "    positive       0.95      0.96      0.95     88784\n",
      "\n",
      "    accuracy                           0.92    105163\n",
      "   macro avg       0.85      0.84      0.85    105163\n",
      "weighted avg       0.92      0.92      0.92    105163\n",
      "\n",
      "SVM (TF-IDF) Performance:\n",
      "              precision    recall  f1-score   support\n",
      "\n",
      "    negative       0.87      0.79      0.83     16379\n",
      "    positive       0.96      0.98      0.97     88784\n",
      "\n",
      "    accuracy                           0.95    105163\n",
      "   macro avg       0.92      0.88      0.90    105163\n",
      "weighted avg       0.95      0.95      0.95    105163\n",
      "\n"
     ]
    }
   ],
   "source": [
    "# Model Evaluation\n",
    "print(\"Naive Bayes (BoW) Performance:\")\n",
    "print(classification_report(y_test, y_pred_nb_bow))\n",
    "\n",
    "print(\"SVM (TF-IDF) Performance:\")\n",
    "print(classification_report(y_test, y_pred_svm_tfidf))"
   ]
  },
  {
   "cell_type": "code",
   "execution_count": null,
   "id": "02fc4afc",
   "metadata": {},
   "outputs": [],
   "source": [
    "# Discussion\n",
    "\n",
    "# Naive Bayes (BoW)\n",
    "# - Pros: Simple and fast.\n",
    "# - Cons: Assumes independence between features.\n",
    "\n",
    "# SVM (TF-IDF)\n",
    "# - Pros: Handles high-dimensional data well.\n",
    "# - Cons: Slower training; sensitive to parameter tuning.\n",
    "\n",
    "# Recommendation\n",
    "# SVM with TF-IDF generally performs better for sentiment classification tasks due to its effectiveness with sparse, high-dimensional data."
   ]
  }
 ],
 "metadata": {
  "kernelspec": {
   "display_name": "Python 3 (ipykernel)",
   "language": "python",
   "name": "python3"
  },
  "language_info": {
   "codemirror_mode": {
    "name": "ipython",
    "version": 3
   },
   "file_extension": ".py",
   "mimetype": "text/x-python",
   "name": "python",
   "nbconvert_exporter": "python",
   "pygments_lexer": "ipython3",
   "version": "3.11.7"
  }
 },
 "nbformat": 4,
 "nbformat_minor": 5
}
