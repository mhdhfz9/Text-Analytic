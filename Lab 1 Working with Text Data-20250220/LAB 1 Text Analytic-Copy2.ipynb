{
 "cells": [
  {
   "cell_type": "markdown",
   "id": "c008e3ba",
   "metadata": {},
   "source": [
    "# Read the content of the text file"
   ]
  },
  {
   "cell_type": "code",
   "execution_count": 1,
   "id": "7eb48d21",
   "metadata": {},
   "outputs": [
    {
     "name": "stdout",
     "output_type": "stream",
     "text": [
      "Raw Text:\n",
      " Hello, this is a sample text file.\n",
      "This is the second line.\n"
     ]
    }
   ],
   "source": [
    "# Read the content of the text file\n",
    "with open('sample.txt', 'r', encoding='utf-8') as file:\n",
    "    text_data = file.read()\n",
    "    print(\"Raw Text:\\n\", text_data)\n",
    "\n",
    "# Store in another file\n",
    "with open('stored_text.txt', 'w', encoding='utf-8') as file:\n",
    "    file.write(text_data)\n"
   ]
  },
  {
   "cell_type": "code",
   "execution_count": 2,
   "id": "37b68a32",
   "metadata": {},
   "outputs": [
    {
     "name": "stdout",
     "output_type": "stream",
     "text": [
      "Reviews:\n",
      " 0    The product is amazing!\n",
      "1     Worst experience ever!\n",
      "Name: Review, dtype: object\n"
     ]
    }
   ],
   "source": [
    "#Read the CSV file\n",
    "import pandas as pd\n",
    "\n",
    "# Read the CSV file\n",
    "df = pd.read_csv('reviews.csv')\n",
    "print(\"Reviews:\\n\", df['Review'].head())\n",
    "\n",
    "# Save the reviews column to a text file\n",
    "df['Review'].to_csv('stored_reviews.txt', index=False, header=False)"
   ]
  },
  {
   "cell_type": "code",
   "execution_count": 4,
   "id": "2603d863",
   "metadata": {},
   "outputs": [
    {
     "name": "stdout",
     "output_type": "stream",
     "text": [
      "First two rows:\n",
      "    ID                   Review\n",
      "0   1  The product is amazing!\n",
      "1   2   Worst experience ever!\n"
     ]
    }
   ],
   "source": [
    "# Read the Excel file\n",
    "df_excel = pd.read_excel('reviews.xlsx', engine='openpyxl')\n",
    "print(\"First two rows:\\n\", df_excel.head(2))\n",
    "\n",
    "# Save the first two rows to a text file\n",
    "df_excel.head(2).to_csv('extracted_excel.txt', index=False)"
   ]
  },
  {
   "cell_type": "code",
   "execution_count": 5,
   "id": "46405572",
   "metadata": {},
   "outputs": [
    {
     "name": "stdout",
     "output_type": "stream",
     "text": [
      "Extracted City: New York\n"
     ]
    }
   ],
   "source": [
    "import json\n",
    "\n",
    "# Read the JSON file\n",
    "with open('social_data.json', 'r', encoding='utf-8') as file:\n",
    " data = json.load(file)\n",
    "print(\"Extracted City:\", data['city'])\n",
    "\n",
    "# Store the extracted city to a file\n",
    "with open('stored_city.txt', 'w', encoding='utf-8') as file:\n",
    " file.write(data['city'])"
   ]
  },
  {
   "cell_type": "code",
   "execution_count": 6,
   "id": "dfbf2d49",
   "metadata": {},
   "outputs": [
    {
     "name": "stdout",
     "output_type": "stream",
     "text": [
      "Extracted Title: AI is transforming industries\n"
     ]
    }
   ],
   "source": [
    "import xml.etree.ElementTree as ET\n",
    "\n",
    "# Parse the XML file\n",
    "tree = ET.parse('news.xml')\n",
    "root = tree.getroot()\n",
    "\n",
    "for article in root.findall('article'):\n",
    "    title = article.find('title').text\n",
    "    print(\"Extracted Title:\", title)\n",
    "\n",
    "# Store the extracted title to a file\n",
    "with open('stored_titles.txt', 'w', encoding='utf-8') as file:\n",
    "    for article in root.findall('article'):\n",
    "        title = article.find('title').text\n",
    "        file.write(title + '\\n')"
   ]
  },
  {
   "cell_type": "code",
   "execution_count": 7,
   "id": "c1930592",
   "metadata": {},
   "outputs": [
    {
     "name": "stdout",
     "output_type": "stream",
     "text": [
      "Requirement already satisfied: PyPDF2 in c:\\users\\asus\\anaconda3\\lib\\site-packages (3.0.1)\n",
      "Note: you may need to restart the kernel to use updated packages.\n"
     ]
    }
   ],
   "source": [
    "pip install PyPDF2"
   ]
  },
  {
   "cell_type": "code",
   "execution_count": 8,
   "id": "d173a7a0",
   "metadata": {},
   "outputs": [
    {
     "name": "stdout",
     "output_type": "stream",
     "text": [
      "Extracted PDF Text:\n",
      " This is a sample PDF document.  \n",
      "AI is transforming industries and automation.  \n"
     ]
    }
   ],
   "source": [
    "#Read from PDF file\n",
    "\n",
    "import PyPDF2\n",
    "\n",
    "# Read the PDF file\n",
    "with open('document.pdf', 'rb') as file:\n",
    "    reader = PyPDF2.PdfReader(file)\n",
    "    text = \"\\n\".join(page.extract_text() for page in reader.pages if page.extract_text())\n",
    "\n",
    "# Print the extracted text\n",
    "print(\"Extracted PDF Text:\\n\", text)\n",
    "\n",
    "# Store the extracted text in a file\n",
    "with open('stored_pdf_text.txt', 'w', encoding='utf-8') as output:\n",
    "    output.write(text)"
   ]
  },
  {
   "cell_type": "code",
   "execution_count": 9,
   "id": "4d6731f6",
   "metadata": {},
   "outputs": [],
   "source": [
    "#Exercise 1\n",
    "\n",
    "#Read from PDF file\n",
    "\n",
    "import PyPDF2\n",
    "\n",
    "# Read the PDF file\n",
    "with open('Business_Proposal.pdf', 'rb') as file:\n",
    "    reader = PyPDF2.PdfReader(file)\n",
    "    text = \"\\n\".join(page.extract_text() for page in reader.pages if page.extract_text())\n",
    "\n",
    "# Store the extracted text in a file\n",
    "with open('business_proposal_all.txt', 'w', encoding='utf-8') as output:\n",
    "    output.write(text)"
   ]
  },
  {
   "cell_type": "code",
   "execution_count": 17,
   "id": "0ba55708",
   "metadata": {},
   "outputs": [
    {
     "name": "stdout",
     "output_type": "stream",
     "text": [
      "Extracted Text from Page 2:\n",
      " AUTHORS:  \n",
      "Amy Baker, Finance Chair, x345, abaker@ourcompany.com  \n",
      "Chris Donaldson, Accounting Dir., x621, cdonaldson@ourcompany.com  \n",
      "Erin Freeman, Sr. VP, x879, efreeman@ourcompany.com  \n"
     ]
    }
   ],
   "source": [
    "import PyPDF2\n",
    "\n",
    "# Read the PDF file\n",
    "with open('Business_Proposal.pdf', 'rb') as file:\n",
    "    reader = PyPDF2.PdfReader(file)\n",
    "    \n",
    "# Extract text from page 2 (index 1)\n",
    "page_2_text = reader.pages[1].extract_text()\n",
    "\n",
    "# Print the extracted text from page 2\n",
    "print(\"Extracted Text from Page 2:\\n\", page_2_text)\n",
    "\n",
    "# Store the extracted text in a file\n",
    "with open('business_proposal_page_2.txt', 'w', encoding='utf-8') as output:\n",
    "    output.write(page_2_text)"
   ]
  },
  {
   "cell_type": "code",
   "execution_count": null,
   "id": "0f291e89",
   "metadata": {},
   "outputs": [],
   "source": []
  }
 ],
 "metadata": {
  "kernelspec": {
   "display_name": "Python 3 (ipykernel)",
   "language": "python",
   "name": "python3"
  },
  "language_info": {
   "codemirror_mode": {
    "name": "ipython",
    "version": 3
   },
   "file_extension": ".py",
   "mimetype": "text/x-python",
   "name": "python",
   "nbconvert_exporter": "python",
   "pygments_lexer": "ipython3",
   "version": "3.11.7"
  }
 },
 "nbformat": 4,
 "nbformat_minor": 5
}
